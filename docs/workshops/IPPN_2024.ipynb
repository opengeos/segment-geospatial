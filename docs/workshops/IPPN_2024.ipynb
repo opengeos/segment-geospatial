{
 "cells": [
  {
   "cell_type": "markdown",
   "id": "0",
   "metadata": {
    "id": "0"
   },
   "source": [
    "[![image](https://colab.research.google.com/assets/colab-badge.svg)](https://github.com/opengeos/segment-geospatial/blob/main/docs/workshops/IPPN_2024.ipynb)\n",
    "\n",
    "**Open Source Pipeline for UAS and satellite based High Throughput Phenotyping Applications**\n",
    "\n",
    "This notebook is designed for workshop presented at the [International Plant Phenotyping Network (IPPN)](https://www.plant-phenotyping.org/ipps8) conference on October 7, 2024. Click the **Open in Colab** button above to run this notebook interactively in the cloud.\n",
    "\n",
    "-   Registration: <https://www.plant-phenotyping.org/index.php?index=935>\n",
    "-   Notebook: <https://samgeo.gishub.org/workshops/IPPN_2024>\n",
    "-   Earth Engine: <https://earthengine.google.com>\n",
    "-   Geemap: <https://geemap.org>\n",
    "-   Leafmap: <https://leafmap.org>\n",
    "-   Samgeo: <https://samgeo.gishub.org>\n",
    "-   Data to Science (D2S): <https://ps2.d2s.org>\n",
    "-   D2S Python API: <https://py.d2s.org>\n",
    "\n",
    "## Introduction\n",
    "\n",
    "Recent advances in sensor technology have revolutionized the assessment of crop health by providing fine spatial and high temporal resolutions at affordable costs. As plant scientists gain access to increasingly larger volumes of Unmanned Aerial Systems (UAS) and satellite High Throughput Phenotyping (HTP) data, there is a growing need to extract biologically informative and quantitative phenotypic information from the vast amount of freely available geospatial data. However, the lack of specialized software packages tailored for processing such data makes it challenging to develop transdisciplinary research collaboration around these data. This workshop aims to bridge the gap between big data and agricultural research scientists by providing training on an open-source online platform for managing big UAS HTP data known as Data to Science. Additionally, attendees will be introduced to powerful Python packages, namely leafmap and Leafmap, designed for the seamless integration and analysis of UAS and satellite images in various agricultural applications. By participating in this workshop, attendees will acquire the skills necessary to efficiently search, visualize, and analyze geospatial data within a Jupyter environment, even with minimal coding experience. The workshop provides a hands-on learning experience through practical examples and interactive exercises, enabling participants to enhance their proficiency and gain valuable insights into leveraging geospatial data for agricultural research purposes.\n",
    "\n",
    "## Agenda\n",
    "\n",
    "The main topics to be covered in this workshop include:\n",
    "\n",
    "* Create interactive maps using leafmap\n",
    "* Visualize drone imagery from D2S\n",
    "* Segment drone imagery using samgeo\n",
    "* Calculate zonal statistics from drone imagery\n",
    "* Visualize Earth Engine data\n",
    "* Create timelapse animations\n",
    "\n",
    "## Environment setup\n",
    "\n",
    "[![image](https://colab.research.google.com/assets/colab-badge.svg)](https://github.com/opengeos/segment-geospatial/blob/main/docs/workshops/IPPN_2024.ipynb)\n",
    "\n",
    "### Change Colab dark theme\n",
    "\n",
    "Currently, ipywidgets does not work well with Colab dark theme. Some of the leafmap widgets may not display properly in Colab dark theme.It is recommended that you change Colab to the light theme.\n",
    "\n",
    "![image](https://github.com/user-attachments/assets/dbb33f3c-084e-4913-9e06-2b66b8dcd4e3)\n",
    "\n",
    "\n",
    "### Change runtime type to GPU\n",
    "\n",
    "To speed up the processing, you can change the Colab runtime type to GPU. Go to the \"Runtime\" menu, select \"Change runtime type\", and choose \"T4 GPU\" from the \"Hardware accelerator\" dropdown menu.\n",
    "\n",
    "![image](https://github.com/user-attachments/assets/e92d2a19-0555-456d-b4be-36680c0af09f)\n",
    "\n",
    "\n",
    "### Install packages\n",
    "\n",
    "Uncomment the following code to install the required packages."
   ]
  },
  {
   "cell_type": "code",
   "execution_count": null,
   "id": "1",
   "metadata": {
    "colab": {
     "base_uri": "https://localhost:8080/"
    },
    "id": "1",
    "outputId": "873b037a-7164-47d7-b12b-32e8ce450d9a"
   },
   "outputs": [],
   "source": [
    "# %pip install -U \"leafmap[raster]\" segment-geospatial d2spy"
   ]
  },
  {
   "cell_type": "markdown",
   "id": "2",
   "metadata": {
    "id": "3"
   },
   "source": [
    "### Import libraries\n",
    "\n",
    "Import the necessary libraries for this workshop."
   ]
  },
  {
   "cell_type": "code",
   "execution_count": null,
   "id": "3",
   "metadata": {
    "id": "4"
   },
   "outputs": [],
   "source": [
    "import leafmap"
   ]
  },
  {
   "cell_type": "markdown",
   "id": "4",
   "metadata": {
    "id": "9"
   },
   "source": [
    "## Creating interactive maps\n",
    "\n",
    "Let's create an interactive map using the `ipyleaflet` plotting backend. The [`leafmap.Map`](https://leafmap.org/leafmap/#leafmap.leafmap.m) class inherits the [`ipyleaflet.Map`](https://ipyleaflet.readthedocs.io/en/latest/map_and_basemaps/map.html) class. Therefore, you can use the same syntax to create an interactive map as you would with `ipyleaflet.Map`."
   ]
  },
  {
   "cell_type": "code",
   "execution_count": null,
   "id": "5",
   "metadata": {
    "colab": {
     "base_uri": "https://localhost:8080/",
     "height": 17
    },
    "id": "10",
    "outputId": "7631fd4d-20c1-4ec8-817b-beb9fbf97a85"
   },
   "outputs": [],
   "source": [
    "m = leafmap.Map()"
   ]
  },
  {
   "cell_type": "markdown",
   "id": "6",
   "metadata": {
    "id": "11"
   },
   "source": [
    "To display it in a Jupyter notebook, simply ask for the object representation:"
   ]
  },
  {
   "cell_type": "code",
   "execution_count": null,
   "id": "7",
   "metadata": {
    "colab": {
     "base_uri": "https://localhost:8080/",
     "height": 621,
     "referenced_widgets": [
      "3ce3481354af40b687866d7ea44bd343",
      "0152770d6cbc4c8eb08fed7b6ff4e9df",
      "2c53a33383264465a3a4cdca61e93b36",
      "d89f74dd252745ed950ef00ec58fdce4",
      "c743ddd759974fa087ff8e36e391fb38",
      "419d3608ba734a67aa4e9f08c77048e5",
      "02882ccc762f4698a268a7f62a923387",
      "75ff0d83c6db494eac2db7d244b0c406",
      "672f71522ce54a179ad3229683d800da",
      "3e1dfaee392644d1a510b9a9a75c0b90",
      "cf23767414f04cbda4dfa1b0c0fdd806",
      "b072b10344a248f4ab2412631162e707",
      "f5bbd821643c4e508a4b7ed332272dfc",
      "118e24f23dd643a7a1474cec39f16ad1",
      "3aceb0f48c204e0caf4215e5b8b1b08d",
      "d1d7120e2f52431681fd382020c02d40",
      "aab80a2f604d45439b46ba8db44bc266",
      "18c961691e3f449398e85829c17bf125",
      "4eb4961ca36a4532876a2c9468911870",
      "aeb4a0b3b39747ab866a16b7969fd049",
      "44bbc16caad3454c8022627866926446",
      "dbdff4a3ab9040b69c1cdfe152b11ffa",
      "9a35ce33d6cc4e939b5afeab05fb35a6",
      "0e56a5db98b94102b95c887457438cc5",
      "80945aa12cba4e859d96612caf7a74ec",
      "31a822a5dff540b6928ba431a1386216",
      "d6d9f2be98114a58aab216f76441603e",
      "7de028b09a5b4a0a9adc1affc7391858",
      "3c84fb3544344cfca79279c85b65fe1a",
      "fb2e1adbf6d14b30a6d7328d628a4bc0",
      "90f55027bf854fd8a0e264be41604543",
      "27ba891d2cbb4ce68d333ce5623aeb99",
      "d41fe0380a1a4f07a09ce8f6ed12eda0",
      "8cd4a60b66d84a6b9a3f076ba68af15a",
      "3778c4cf52df4b92b5e2a63532b6faca",
      "678f7e227ac54c98ab2b214de4f0e754",
      "891c6a62d74f4643ae06e285a719db2f",
      "cfa5c1530b37455bbdd4a1081cb42382",
      "65a2ce9be57444d99cbc34b1bf55d329",
      "6effc54320b049418c2a62f2c5967769",
      "3cbe7b3c66644c86af037c0de6b46c55",
      "edfc12a87e5a420b8de12f1f2a61db53",
      "26f953612813413380aa5f7eff7a6d41",
      "c0e3cf2ab1874b1fbee74249063dfbe1",
      "03aa0eb19c4b4232858134afe3f612de",
      "787180144b8e4c7284cf3c258cb68925",
      "e6cbb1359207489cbcf3565e8e348b11",
      "04d62c2ead5547099e4c774f614db44e",
      "1daa6fa4772840b6a9a5b0a7c6056c96",
      "59224fd6aaf84a18a5e32bd1461c615f",
      "3e20a17c9721475394bf2470da76560d",
      "c5494e4fd53840eeb5bfb25e722a86ab",
      "e2a0711eb22e4d76b6f3d6ae94f7ea04",
      "3ab9e189e1c045caa429029002395e93",
      "77aedf2f8a024dc38591348edc51368b",
      "19c9b05bda594cc78843396102036cf0",
      "af96252711154291bb04a6cf2b33bae9",
      "ed362eecaeec4e37886aef4c19953680",
      "e60150e0a5b1449db5bb995d4486ef44",
      "926fb188ea24475da5f2c440a3efc463",
      "7b1e6d43513f433cb9e5af63d9657d8c"
     ]
    },
    "id": "12",
    "outputId": "f7f487c9-b2b0-4da5-f694-4f7163171431"
   },
   "outputs": [],
   "source": [
    "m"
   ]
  },
  {
   "cell_type": "markdown",
   "id": "8",
   "metadata": {
    "id": "13"
   },
   "source": [
    "To customize the map, you can specify various keyword arguments, such as `center` ([lat, lon]), `zoom`, `width`, and `height`. The default `width` is `100%`, which takes up the entire cell width of the Jupyter notebook. The `height` argument accepts a number or a string. If a number is provided, it represents the height of the map in pixels. If a string is provided, the string must be in the format of a number followed by `px`, e.g., `600px`."
   ]
  },
  {
   "cell_type": "code",
   "execution_count": null,
   "id": "9",
   "metadata": {
    "colab": {
     "referenced_widgets": [
      "9b24f7ca54b441d7a0a5bd101ffd6657"
     ]
    },
    "id": "14",
    "outputId": "6242756a-969b-4551-a868-a481799c554e"
   },
   "outputs": [],
   "source": [
    "m = leafmap.Map(center=[40, -100], zoom=4, height=\"600px\")\n",
    "m"
   ]
  },
  {
   "cell_type": "markdown",
   "id": "10",
   "metadata": {
    "id": "17"
   },
   "source": [
    "### Adding basemaps\n",
    "\n",
    "There are several ways to add basemaps to a map. You can specify the basemap to use in the `basemap` keyword argument when creating the map. Alternatively, you can add basemap layers to the map using the `add_basemap` method. leafmap has hundreds of built-in basemaps available that can be easily added to the map with only one line of code.\n",
    "\n",
    "Create a map by specifying the basemap to use as follows. For example, the `Esri.WorldImagery` basemap represents the Esri world imagery basemap."
   ]
  },
  {
   "cell_type": "code",
   "execution_count": null,
   "id": "11",
   "metadata": {
    "colab": {
     "referenced_widgets": [
      "ec42c6d324864710ae1296df1cd231c3"
     ]
    },
    "id": "18",
    "outputId": "3e8b302b-a230-4543-bcdf-d858c1c3134f"
   },
   "outputs": [],
   "source": [
    "m = leafmap.Map(basemap=\"Esri.WorldImagery\")\n",
    "m"
   ]
  },
  {
   "cell_type": "markdown",
   "id": "12",
   "metadata": {
    "id": "19"
   },
   "source": [
    "You can add as many basemaps as you like to the map. For example, the following code adds the `OpenTopoMap` basemap to the map above:"
   ]
  },
  {
   "cell_type": "code",
   "execution_count": null,
   "id": "13",
   "metadata": {
    "id": "20",
    "outputId": "b1fea60d-6a8c-4c9e-fc13-0e3525c4a917"
   },
   "outputs": [],
   "source": [
    "m.add_basemap(\"OpenTopoMap\")"
   ]
  },
  {
   "cell_type": "markdown",
   "id": "14",
   "metadata": {
    "id": "21"
   },
   "source": [
    "You can also add an XYZ tile layer to the map."
   ]
  },
  {
   "cell_type": "code",
   "execution_count": null,
   "id": "15",
   "metadata": {
    "id": "22",
    "outputId": "c4f2108b-8a2b-4903-db1a-bcc0690a3651"
   },
   "outputs": [],
   "source": [
    "basemap_url = \"https://mt1.google.com/vt/lyrs=y&x={x}&y={y}&z={z}\"\n",
    "m.add_tile_layer(basemap_url, name=\"Hybrid\", attribution=\"Google\")"
   ]
  },
  {
   "cell_type": "markdown",
   "id": "16",
   "metadata": {
    "id": "23"
   },
   "source": [
    "You can also change basemaps interactively using the basemap GUI."
   ]
  },
  {
   "cell_type": "code",
   "execution_count": null,
   "id": "17",
   "metadata": {
    "colab": {
     "referenced_widgets": [
      "5b21e67fb214433f9fbf479a05029bfb"
     ]
    },
    "id": "24",
    "outputId": "2026d34d-9800-4db5-b8e7-88576ff50dc3"
   },
   "outputs": [],
   "source": [
    "m = leafmap.Map()\n",
    "m.add_basemap_gui()\n",
    "m"
   ]
  },
  {
   "cell_type": "markdown",
   "id": "18",
   "metadata": {
    "id": "25"
   },
   "source": [
    "## Visualizing Drone Imagery from D2S\n",
    "\n",
    "The Data to Science (D2S) platform (https://ps2.d2s.org) hosts a large collection of drone imagery that can be accessed through the D2S API (https://py.d2s.org). To visualize drone imagery from D2S, you need to [sign up](https://ps2.d2s.org/auth/register) for a free account on the D2S platform and obtain an API key. "
   ]
  },
  {
   "cell_type": "markdown",
   "id": "19",
   "metadata": {
    "id": "de1a9ee4-d27e-49cb-9dcf-db32aab48ccc"
   },
   "source": [
    "### Login to D2S\n",
    "Login and connect to your D2S workspace in one go using the d2spy."
   ]
  },
  {
   "cell_type": "code",
   "execution_count": null,
   "id": "20",
   "metadata": {
    "colab": {
     "base_uri": "https://localhost:8080/",
     "height": 34
    },
    "id": "8d07e871-f795-4022-8e31-4e5a480cb1e1",
    "outputId": "de330548-84f4-4310-c9e1-d03642cecab1"
   },
   "outputs": [],
   "source": [
    "from d2spy.workspace import Workspace\n",
    "\n",
    "# Replace with URL to a D2S instance\n",
    "d2s_url = \"https://ps2.d2s.org\"\n",
    "\n",
    "# Login and connect to workspace with your email address\n",
    "# workspace = Workspace.connect(d2s_url, \"workshop@d2s.org\")\n",
    "workspace = Workspace.connect(d2s_url, \"qwu18@utk.edu\")"
   ]
  },
  {
   "cell_type": "code",
   "execution_count": null,
   "id": "21",
   "metadata": {
    "colab": {
     "base_uri": "https://localhost:8080/",
     "height": 17
    },
    "id": "baf2b4d6-8945-4fbc-8429-776c069c918c",
    "outputId": "3477504a-f287-4df6-a10c-edf34d6479b9"
   },
   "outputs": [],
   "source": [
    "# Check for API key\n",
    "api_key = workspace.api_key\n",
    "if not api_key:\n",
    "    print(\n",
    "        \"No API key. Please request one from the D2S profile page and re-run this cell.\"\n",
    "    )"
   ]
  },
  {
   "cell_type": "code",
   "execution_count": null,
   "id": "22",
   "metadata": {
    "colab": {
     "base_uri": "https://localhost:8080/",
     "height": 17
    },
    "id": "T_4tyKQJWWk1",
    "outputId": "9919c432-af9a-4230-8553-e6d23cad9588"
   },
   "outputs": [],
   "source": [
    "import os\n",
    "from datetime import date\n",
    "\n",
    "os.environ[\"D2S_API_KEY\"] = api_key\n",
    "os.environ[\"TITILER_ENDPOINT\"] = \"https://tt.d2s.org\""
   ]
  },
  {
   "cell_type": "markdown",
   "id": "23",
   "metadata": {
    "id": "TOx4ytjZKLOC"
   },
   "source": [
    "### Choose a project to work with\n",
    "\n",
    "The Workspace `get_projects` method will retrieve a collection of the projects your account can currently access on the D2S instance."
   ]
  },
  {
   "cell_type": "code",
   "execution_count": null,
   "id": "24",
   "metadata": {
    "colab": {
     "base_uri": "https://localhost:8080/",
     "height": 17
    },
    "id": "n7EY09rXKdHC",
    "outputId": "058b3d00-0341-4947-e1e1-364e0d3c0bac"
   },
   "outputs": [],
   "source": [
    "# Get list of all your projects\n",
    "projects = workspace.get_projects()\n",
    "for project in projects:\n",
    "    print(project)"
   ]
  },
  {
   "cell_type": "markdown",
   "id": "25",
   "metadata": {
    "id": "zTQJkyxaKxKn"
   },
   "source": [
    "The `projects` variable is a `ProjectCollection`. The collection can be filtered by either the project descriptions or titles using the methods `filter_by_title` or `filter_by_name`."
   ]
  },
  {
   "cell_type": "code",
   "execution_count": null,
   "id": "26",
   "metadata": {
    "colab": {
     "base_uri": "https://localhost:8080/",
     "height": 34
    },
    "id": "eXVGv5WBK_VH",
    "outputId": "3ac9762b-46e3-44cf-c7a4-2e1f2afa6491"
   },
   "outputs": [],
   "source": [
    "# Example of creating new collection of only projects with the keyword \"Citrus Orchard\" in the title\n",
    "filtered_projects = projects.filter_by_title(\"Citrus Orchard\")\n",
    "print(filtered_projects)"
   ]
  },
  {
   "cell_type": "markdown",
   "id": "27",
   "metadata": {
    "id": "O6fdeffmLIN5"
   },
   "source": [
    "Now you can choose a specific project to work with. In this case, the filtered projects returned only one project, so we will use that project."
   ]
  },
  {
   "cell_type": "code",
   "execution_count": null,
   "id": "28",
   "metadata": {
    "colab": {
     "base_uri": "https://localhost:8080/",
     "height": 17
    },
    "id": "UMvUAPQPLQYK",
    "outputId": "8c212b2e-bc48-45f3-b654-f02dd442400d"
   },
   "outputs": [],
   "source": [
    "project = filtered_projects[0]"
   ]
  },
  {
   "cell_type": "markdown",
   "id": "29",
   "metadata": {},
   "source": [
    "### Get the project boundary"
   ]
  },
  {
   "cell_type": "markdown",
   "id": "30",
   "metadata": {
    "id": "yqo000pqLYn4"
   },
   "source": [
    "`get_project_boundary` method of the `Project` class will retrieve a GeoJSON object of the project boundary."
   ]
  },
  {
   "cell_type": "code",
   "execution_count": null,
   "id": "31",
   "metadata": {
    "colab": {
     "base_uri": "https://localhost:8080/",
     "height": 54
    },
    "id": "StEMiRfJLXWX",
    "outputId": "07f9a7f3-b112-41b6-abd3-97cf3ee309f7"
   },
   "outputs": [],
   "source": [
    "# Get project boundary as Python dictionary in GeoJSON structure\n",
    "project_boundary = project.get_project_boundary()\n",
    "project_boundary"
   ]
  },
  {
   "cell_type": "markdown",
   "id": "32",
   "metadata": {
    "id": "OvFhMBNtLv9X"
   },
   "source": [
    "### Get project flights\n",
    "\n",
    "The `Project` `get_flights` method will retrieve a list of flights associated with the project."
   ]
  },
  {
   "cell_type": "code",
   "execution_count": null,
   "id": "33",
   "metadata": {
    "colab": {
     "base_uri": "https://localhost:8080/",
     "height": 88
    },
    "id": "mdWpH7N2L9eN",
    "outputId": "d336fb5d-c463-450e-b3ed-9466a04476e9"
   },
   "outputs": [],
   "source": [
    "# Get list of all flights for a project\n",
    "flights = project.get_flights()\n",
    "# Print first flight object (if one exists)\n",
    "for flight in flights:\n",
    "    print(flight)"
   ]
  },
  {
   "cell_type": "markdown",
   "id": "34",
   "metadata": {
    "id": "eT8rrteTMM4z"
   },
   "source": [
    "### Filter flights by date\n",
    "\n",
    "The `flights` variable is a `FlightCollection`. The collection can be filtered by the acquisition date using the method `filter_by_date`. This method will return all flights with an acquisition date between the provided start and end dates."
   ]
  },
  {
   "cell_type": "code",
   "execution_count": null,
   "id": "35",
   "metadata": {
    "colab": {
     "base_uri": "https://localhost:8080/",
     "height": 71
    },
    "id": "urXu65AsMfk0",
    "outputId": "8e89d7e5-7621-4b30-a200-3ced37e65f95"
   },
   "outputs": [],
   "source": [
    "# Example of creating new collection of only flights from June 2022\n",
    "filtered_flights = flights.filter_by_date(\n",
    "    start_date=date(2022, 6, 1), end_date=date(2022, 7, 1)\n",
    ")\n",
    "for flight in filtered_flights:\n",
    "    print(flight)"
   ]
  },
  {
   "cell_type": "markdown",
   "id": "36",
   "metadata": {
    "id": "dOlbqBhRNX4e"
   },
   "source": [
    "Now, we can choose a flight from the filtered flight. Let's choose the flight on June 9, 2022."
   ]
  },
  {
   "cell_type": "code",
   "execution_count": null,
   "id": "37",
   "metadata": {
    "colab": {
     "base_uri": "https://localhost:8080/",
     "height": 17
    },
    "id": "afjCXq05NW_t",
    "outputId": "9b45bca9-04c3-41f3-e281-fee2df318122"
   },
   "outputs": [],
   "source": [
    "flight = filtered_flights[0]\n",
    "flight"
   ]
  },
  {
   "cell_type": "markdown",
   "id": "38",
   "metadata": {
    "id": "ngIYB3tANljF"
   },
   "source": [
    "### Get data products\n",
    "\n",
    "The Flight `get_data_products` method will retrieve a list of data products associated with the flight."
   ]
  },
  {
   "cell_type": "code",
   "execution_count": null,
   "id": "39",
   "metadata": {
    "colab": {
     "base_uri": "https://localhost:8080/",
     "height": 122
    },
    "id": "iRQEODHXNrBL",
    "outputId": "4c5e1c7c-4224-4b8f-98bc-3e4dedef5e4a"
   },
   "outputs": [],
   "source": [
    "# Get list of data products from a flight\n",
    "data_products = flight.get_data_products()\n",
    "\n",
    "for data_product in data_products:\n",
    "    print(data_product)"
   ]
  },
  {
   "cell_type": "markdown",
   "id": "40",
   "metadata": {
    "id": "yiKBMsv7N4cy"
   },
   "source": [
    "The `data_products` variable is a `DataProductCollection`. The collection can be filtered by data type using the method `filter_by_data_type`. This method will return all data products that match the requested data type."
   ]
  },
  {
   "cell_type": "code",
   "execution_count": null,
   "id": "41",
   "metadata": {
    "colab": {
     "base_uri": "https://localhost:8080/",
     "height": 54
    },
    "id": "zL-u2UtUN3zc",
    "outputId": "5b494975-2937-4954-b0b1-98671f1db47c"
   },
   "outputs": [],
   "source": [
    "# Example of creating new collection of data products with the \"ortho\" data type\n",
    "ortho_data_products = data_products.filter_by_data_type(\"ortho\")\n",
    "print(ortho_data_products)"
   ]
  },
  {
   "cell_type": "markdown",
   "id": "42",
   "metadata": {
    "id": "ZryOKEuROOnu"
   },
   "source": [
    "### Visualize ortho imagery\n",
    "\n",
    "Now we can grab the ortho URL to display it using leafmap."
   ]
  },
  {
   "cell_type": "code",
   "execution_count": null,
   "id": "43",
   "metadata": {
    "colab": {
     "base_uri": "https://localhost:8080/",
     "height": 621,
     "referenced_widgets": [
      "f2984092efaf4a2e9f6b95cc75bc529b",
      "15adc779e7594d74b03d00bda6436c80",
      "128335ec2b98495ab9b3ab44ee980ca7",
      "c0d277ef133c40e9b52e1a3135ee7845",
      "70e52d45144c49898e8b1a0c3a80c3f6",
      "f14ae495547b4faeb99cbe5fcd1a28f1",
      "a4c05727c0704772ab916d21b785bd21",
      "e0f9eda71f944935b45d38e54a33a344",
      "32ae5b522ac340149c02a8b65019a8a1",
      "e3f3e67cb1ba4b05a5261cace7cba5d1",
      "d351aadc276446c2952226da2e63ad4a",
      "8c56b07967244c409ed02f20caa5777a",
      "024079c8936b47128caa352f4a3abc9b",
      "41e49b5ff9764ec3b94b1b80e228e700",
      "ca7059ea48b64915a328d565b1fa6208",
      "271220f67d3a40dd8d3b992fbaf390bf",
      "6ccadd6ecdb0454c814cc38c00235ce2",
      "54f9a24eeb794b10bc2bffc051f9a916",
      "d602a4793fad417e9b899c8facae9821",
      "5078ada7657c42d0a804861cc0bd9042",
      "0d1f6ef6420f4c38a6fa6ac01fb0fe11",
      "febfc4eb09c744f79f29b1f015645e80",
      "cf893914bcfd4f3189bec464e25ba452",
      "7c4516f027554ec78ec21894825ae58b",
      "de496c7f3c5b4143b5388003d7996bc7",
      "86dcde7e21d1427f83d828a9f92e8a3a",
      "aa78bd4e96aa4c72a92a830163b876f2",
      "1c19c170c3fe4d25a15c2452e3c8a822",
      "b378a2a6435e44f8875f230db3556698",
      "1d15879b13b54b7b8b55eb50431c4acd",
      "65523187ad17480f87f23711c1884d0c",
      "afda6b13aac845c68b24e841add570cd",
      "80050c8c67214bea9d0070ae6bcc3e19",
      "86c1a9c7707947e9915972b3e8905da6",
      "4ecf5fdaf448480881c7eeebee30c824",
      "330bc30a5fa54f53bf4c0447204289de",
      "5a2fa365c0e242fa8c4b4b50db8c8c96",
      "1da0b11509a242c790caba45fce29508",
      "9a465a7605eb4c1d904b8903cae7c8b1",
      "a7454ad6c936437ca93828efc66c796b",
      "5ebe4e16a52341459ae368b06f8ddebe",
      "72377a44291d49c282b8b6c6796975a9",
      "9f4ea46c9b8c4dbe91dd2a4177ffcd85",
      "187b1aaef9b2468c81ece4593f424944",
      "d496a8152dbc48acab5bb64d96f8d6d5",
      "9d201f53956840389cd7c2d2c4619ec1",
      "8ca9814771e74a4f96592ef7c67afe23",
      "17fad8d0b3f0400fbfc4f9d95cc96052",
      "46969d4c38df4dc682f94f26f8c587b6",
      "d1c0323663714ca79a7c374622d7cfb5",
      "6b030575c40c46b0899c473e0929101c",
      "ee8bf9f2412d40a6a1025c8ab1539401",
      "c568b4c886f54bb39f79436591745e13",
      "fa089dab26204b13b8f15bee49ec9f5a",
      "082c19e8c1894dd18f011516ca4b7d9e",
      "bbe749f4e5e64a9892e1e8fa3714972c",
      "edcf58e3242840b49a7ca3a2548cd3c6",
      "4342ce4c74004d0ba6eb2598ccb21d58",
      "68d46b1c66a7459881b4e99ed7a1f1a7",
      "70e86a0772c045b38a8b6a1cf59348ff",
      "15e8a6e9a09f4cdebf480d4713b2dc83",
      "125b802d601b43fa825d89a27fc4d6ac",
      "c0c2b926d3bf43d2ab35cdfa26e0190a",
      "d2806c4bdf164d85be53cb29867fe4fd",
      "89e16c5fe72644b58b549048fe52b15a",
      "8d2a2e95b63a4db08ffdcbfab33d0290",
      "b3807a7e3c734bb6bf392c0a50cc0915",
      "62f2f006846b47cfa4d4321d8625e20f",
      "eae3369d8ebb4e5e8b7006ade41bc9d3",
      "24f1ba96905945078310633991f8d012",
      "db681190a5d44c1bb510f82d172d31ee",
      "0278bcbad3a4453c8eb22f90821db861",
      "7ae078313291408287c593ed3e68fe12",
      "04e536ecf81d48fa93ebd3ea5ca6ef4d",
      "c40d60bf5e164a29b3442dae615274c5",
      "ea9c429b3a2f49138df860f8f905e8b5",
      "19db6c55f90845ffb9889262fc2a923d",
      "e29f2cb73ff740c4b66aef933d951d21",
      "9876b9900a9c4628b21ce7d6234c9285",
      "a67eb2dab5504cfc9e9fafdc4ee9967d",
      "6a512e68c9f74cb2952521d12fc75a6c",
      "0bb05483a007415786a85f22e2976b2b",
      "b4c6bff92f0e45859128cb19a0d13cbf",
      "8960e0aaa8b54bfb98c82a59f161e9d9",
      "7c640255771545c7b11eff15e3e93fd9",
      "540d70d10bcb42bf9de285a7b7803eea",
      "25ccfc0acbf947f0bdc5dda077b79db7",
      "8c03baf94113412f9e87a02406b3ce32",
      "cebc6bfe0fde42cd9c74f77578b49378",
      "c3c9e6b39a8244a58226ad556f65afea",
      "e765cacaf73d41b8a0017d61d5a15a8e",
      "01b0eee7a0414f99a7916244ac07c164",
      "420b65dc4ebb42da8e27ef1dd307fa5c",
      "21c72aa4c9db4fa2abd2b9a2c377758c",
      "ddceb48c53c84460af51b41e376019ee",
      "89ee25b60f4c48e0b377b05e875fd07f",
      "7488f1cab94e46119807262ec5b8eb31",
      "f20c3c478d6f446eb769679b9ec1c388",
      "bf8f052252c94dacb7a80d1b79941b09",
      "7e3f93be1f7247788474689f7f15e29e",
      "7f9396c12dc34c45b5bbd8308d3c0860",
      "2e1aa45581ea4b55b8781d563048b4af",
      "cb7c6debd3a1440196f9f529d3c83510",
      "283b4bf17013478e80381bc4ce93ba52",
      "39eb00b6f04648b4ab173eb17b92e872",
      "dc2a5a1cb8184f1dbf37c6d5397cff4b",
      "4b4bcfb9734b46b482778dc63b958955",
      "29cc010bd2444f31a7ee48e17658660e",
      "563799e1ec8a44698c1f80558690a6ad",
      "31abed0389b84a8f87022633a170e64e",
      "9d12c2cd39f94fb695c1e73936a80d5a",
      "1046d7ef7d1a4a79ace5f9ed24d1fceb",
      "9678e8a746f74ebbae830c2a9aa068d5",
      "5187d5ef83cd426ea1fc2c02fb791731",
      "4fac5ce83f9e4dfca51e66922e810fe6",
      "4d2dd58b9fca4faf99225a89200cee95",
      "cbe564ab4e6442d78c49c9516299b43c",
      "a198f435dfa843e8bbbf426695eea322",
      "bf560341680142ae9507f0029ca1faa4",
      "b64b443d7a824cb5b457725336fc0e39",
      "4aed72b3684c4489a6f2a4ac29e35881",
      "9c7f6501253048b7afe49d8dbcf71a12",
      "077498f55675418da971d6ffc3383af5",
      "fbac29e902e644adbbd37101aff62988",
      "624a1a2c9b2443f299fe973780c0ae21",
      "5531f19d064946e488383c7e80a1f6c8",
      "56de561b6c5b486cb0ab31bd09e74597",
      "ed9cfe85ad6a4245a10d45514e71c2cf",
      "5124215bc2df48b69752d163c087c6e5",
      "c5e6ad8d28db41e792858f04edfbac85",
      "51a45cba453c46e99550174de4ff6512",
      "a6b5730fa0cc4d669baccebe9071f079",
      "f7a89550fbf646d8bd7b0ce27b317e24",
      "0cec46d2c1ff4315b0b5863a55560a62",
      "422c9689934f448fa459bacae75408fd",
      "2815e2c639c247d48968f82ba759095f",
      "e96e2e964fd94aaab967ab6f3493a0f8",
      "3be3a105ca2b469d85390487b0c5dbd3",
      "5bc09233ef76447daf3acc40b18fce76",
      "b961a7f9d2a543e89a0b69aefd903274",
      "4204e1d686d444e0ad906e1a78a90f2f",
      "0b219daa25924bc5aa3e3bc816f95459",
      "6267b86c52e64a248111b755e788820b",
      "31780b13c9a840c6a537c11630b355bb",
      "f9609d915d54430b80786150b4f533da",
      "ee23f2fae3ff483ea0a405ef4886f177",
      "04d47ccac62442518b7a063ecfeb9230",
      "611c5d3463bf4fc2b0f51a4d3b79039c",
      "45671cb31f8a4304938d981c2f887569",
      "c019f799d3e7408786d37ee83de85144",
      "cb32930cacd74e3ba822939bd56139c1",
      "ef05bd1eeb84445a9daf05c481fd2412",
      "fbf0b7bfe3cb4661adf4fc253dcbc63a",
      "dfa907ac9e6e4c59955c9ddec0486d09",
      "af565edc3d1f4e0fae9b627e4d7c3232",
      "988fee3ffff243bbb46a8673c51a88a6",
      "a38f035509844fa6aee59a37b28fb19f",
      "70c534e579d944839aaf268379f6c9ea",
      "72c93de3f7b54ed58efe82e03584b689",
      "21865bb3a3504bba9a6cd5ac6444a5f0",
      "5933772fb3934166816e64a8f9d33077",
      "38da2dd8543b4bdd99e1bd2ec2bfa52e",
      "f7c4c1e620844979a1cb3d7a3be7accd",
      "8a686c889b564023a21b6e14647a20a5",
      "63fec2911ef04a80a22b492b837e8d24",
      "70f555618ded483ab1d9b678d1761b0f",
      "128c32b424a6412481032b7fc2df7d64",
      "859f8224a374460d8156e2593005666e",
      "9d258afbcdad48ed9699797f93ffb855",
      "4c30afd9f2044544b00328c456a894ab",
      "697d7064fc4940958c815960ac4fb8f8",
      "7829e66408a44b8387ccd6cc823f2a64",
      "1e051871ca064eccb0af6cb7cf6e42ed",
      "72dc0cecdd834fe19622beba327900f5",
      "b603d08da95c4a11adcede410e31b8a1",
      "f42ec862c505451d999ea6c9019306c3",
      "2c1cddbde9064608974828644ce75060",
      "9928d5c2a6124ac2a3c88e51433ad18b",
      "f1a9eb0638df4453a1e63fa8cfc93e84",
      "4aebec45b6f440fe9a8decea13eb2b1b",
      "b4d51e60edb646f194c8b9264874243b",
      "cc6121c5edfc4193a612f1d1a410ddec",
      "d881a085cd84427d8db4f6fa4ac88097",
      "d98ee87b679f4bbca76ef7a153dcd7ab",
      "0378aa2147b14405ae21bed8fb5861ad",
      "738d05a21c244a65bc12ce2a3bc9b7f5",
      "533b6898b8504fe59e8efded708e2f2e",
      "7b852bee94134d30838c520cdc217292",
      "78bae3dcd7bf411fb1cdcd62c9e50d6a",
      "d0595c10d6e746bfbfac99a5df606482",
      "5656abb6e07f4230a3aef3117ba96c02",
      "1bd8856af16a4e1ba2ff65e5f326858b",
      "0c7bc2df69bb4a149032e92e683de6b0",
      "e8d9547849244a989667f44b4b16ec59",
      "38e9851e9cac46e9bec8eac8d7d6079c",
      "1a6b5296a55a4209ae356c012248a74b",
      "cf899c76d96d4563b99b2198717dbebe",
      "b8a4286b632e4aefb7a41152e4aac843",
      "210fad450d97415e9501a055e3cd3f36",
      "f980b50491ec4b03a7fe15d7e0e8ddfa",
      "796512c258054bc79998319ce97d5c43",
      "2f810df4d85840fc8e30bb848c1724d9",
      "86b5d39a6e294dcc970b7d568df5a18f",
      "e818ce3fa21346719d19e93a8b4eca58",
      "5fd5d4617a324a0fa0a1a53c117e7dbd",
      "5137d297dd3d4c65ae265e12dae594fa",
      "02f7b1c9cc3542b5a281c404218c4aa4",
      "cd7e3586a46e48bc8936175f97239ce7",
      "906ee10ca27e47cdb698726ad1279bf1",
      "bacffb4c8c284b73aaca916773cd3f62",
      "6cda5c3d83144095ad7da41a55cd55ca",
      "e276504e235a48c88fa2342c7d3b201a",
      "e8d3b549372f42dd8c1d41aa571187b4",
      "d9a78b8cc6494cd2844ec4d2ab793f70",
      "335b8c719c7d480f9b59f213c74502f7",
      "4b748b6bfca34745b8d114777c6057bd",
      "1edf0f9722a4427aa5a54a1c694510fe",
      "c2231040810849cb82b6c3aed144cb5b",
      "e05a68d93385427d913aa452f0d25882",
      "1ff448da9ba54da0a7ba62f84f995925",
      "d8e6dc605268453e8a63d57211a674aa",
      "d04a8789b24c42c0b318126fef4c9c3c",
      "ad7108e9ef734c4194a212afe0926a21",
      "694587a3b84d4f44b288eb9cbb9b22d5",
      "e70fdeb5c84544c8b133d036c18b449b",
      "4dd94e0e04ba4eca8da8c3bbc9d27334",
      "059d04e9e5d3443f93c92dbcacb9e1dd",
      "0a7ee997af254a06804b5273e88257e6",
      "a5cb5563852a45a09b1a81f17bd1ac7d",
      "85e8aec6bffe432f8023069c267eaa40",
      "54d4c544d0fc4a988db8d4649bdb872f",
      "d2db5c41b9cf4f95b66251b3efa13a0b",
      "692682f4b2fc4b56a1fc9596fbd3b8eb",
      "a7e33d106ff945ea8e52b2a2bb7a7d99",
      "284f1ebaee5140b4af0f1db0a1f17fd0",
      "56476d06ba704e3faf40a90bf4191a86",
      "bf3e70be0abe449d82a7b5ccea1d6e32",
      "657853a5f5e54783b713cba3384c616e",
      "f18b2852188945beb99d82ce3f48ae40",
      "2599ff303d4e4d64af6cc6344a0a93c0",
      "95e7c0f8dabf4eefb90e5ca9d5731bb6"
     ]
    },
    "id": "32",
    "outputId": "80d05f04-f255-4f28-fd07-214066197693"
   },
   "outputs": [],
   "source": [
    "m = leafmap.Map()\n",
    "m.add_basemap(\"HYBRID\", show=False)\n",
    "ortho_data = ortho_data_products[0]\n",
    "ortho_url_202206 = ortho_data.url\n",
    "ortho_url_202206 = leafmap.d2s_tile(ortho_url_202206)\n",
    "m.add_cog_layer(ortho_url_202206, name=\"Ortho Imagery 202206\")\n",
    "m"
   ]
  },
  {
   "cell_type": "markdown",
   "id": "44",
   "metadata": {
    "id": "33"
   },
   "source": [
    "### Visualize DSM\n",
    "\n",
    "Similarly, you can visualize the Digital Surface Model (DSM) from D2S using the code below."
   ]
  },
  {
   "cell_type": "code",
   "execution_count": null,
   "id": "45",
   "metadata": {
    "colab": {
     "base_uri": "https://localhost:8080/",
     "height": 54
    },
    "id": "OBD_vwvuPseQ",
    "outputId": "8e6e8fbb-ad1a-4444-c641-b2b102d72659"
   },
   "outputs": [],
   "source": [
    "# Example of creating new collection of data products with the \"dsm\" data type\n",
    "dsm_data_products = data_products.filter_by_data_type(\"dsm\")\n",
    "print(dsm_data_products)"
   ]
  },
  {
   "cell_type": "code",
   "execution_count": null,
   "id": "46",
   "metadata": {
    "colab": {
     "base_uri": "https://localhost:8080/",
     "height": 17
    },
    "id": "34",
    "outputId": "b90f75de-7c22-4edc-82a4-55e5df4e292a"
   },
   "outputs": [],
   "source": [
    "dsm_data = dsm_data_products[0]\n",
    "dsm_url_202206 = dsm_data.url\n",
    "dsm_url_202206 = leafmap.d2s_tile(dsm_url_202206)\n",
    "m.add_cog_layer(dsm_url_202206, colormap_name=\"terrain\", name=\"DSM 202206\")"
   ]
  },
  {
   "cell_type": "code",
   "execution_count": null,
   "id": "47",
   "metadata": {},
   "outputs": [],
   "source": [
    "leafmap.cog_stats(dsm_url_202206)"
   ]
  },
  {
   "cell_type": "markdown",
   "id": "48",
   "metadata": {
    "id": "35"
   },
   "source": [
    "Add a colorbar to the map."
   ]
  },
  {
   "cell_type": "code",
   "execution_count": null,
   "id": "49",
   "metadata": {
    "colab": {
     "base_uri": "https://localhost:8080/",
     "height": 17
    },
    "id": "36",
    "outputId": "a83408c1-c53e-4542-9c23-224c36a67687"
   },
   "outputs": [],
   "source": [
    "m.add_colormap(cmap=\"terrain\", vmin=3, vmax=33, label=\"Elevation (m)\")\n",
    "m"
   ]
  },
  {
   "cell_type": "markdown",
   "id": "50",
   "metadata": {
    "id": "37"
   },
   "source": [
    "Add the project boundary to the map."
   ]
  },
  {
   "cell_type": "code",
   "execution_count": null,
   "id": "51",
   "metadata": {
    "colab": {
     "base_uri": "https://localhost:8080/",
     "height": 17
    },
    "id": "38",
    "outputId": "1aac998f-949f-452d-fd38-514f66c49b2e"
   },
   "outputs": [],
   "source": [
    "m.add_geojson(project_boundary, layer_name=\"Project Boundary\")"
   ]
  },
  {
   "cell_type": "markdown",
   "id": "52",
   "metadata": {},
   "source": [
    "Add tree boundaries to the map."
   ]
  },
  {
   "cell_type": "code",
   "execution_count": null,
   "id": "53",
   "metadata": {},
   "outputs": [],
   "source": [
    "map_layers = project.get_map_layers()\n",
    "tree_boundaries = map_layers[0]"
   ]
  },
  {
   "cell_type": "code",
   "execution_count": null,
   "id": "54",
   "metadata": {},
   "outputs": [],
   "source": [
    "m.add_geojson(tree_boundaries, layer_name=\"Tree Boundaries\")"
   ]
  },
  {
   "cell_type": "markdown",
   "id": "55",
   "metadata": {},
   "source": [
    "### Get another flight\n",
    "\n",
    "Retrieve the Ortho data product for the December 2022 flight."
   ]
  },
  {
   "cell_type": "code",
   "execution_count": null,
   "id": "56",
   "metadata": {},
   "outputs": [],
   "source": [
    "filtered_flights = flights.filter_by_date(\n",
    "    start_date=date(2022, 12, 1), end_date=date(2022, 12, 31)\n",
    ")\n",
    "for flight in filtered_flights:\n",
    "    print(flight)"
   ]
  },
  {
   "cell_type": "code",
   "execution_count": null,
   "id": "57",
   "metadata": {},
   "outputs": [],
   "source": [
    "flight_202212 = filtered_flights[0]\n",
    "data_products = flight_202212.get_data_products()\n",
    "ortho_data_products = data_products.filter_by_data_type(\"ortho\")\n",
    "ortho_data = ortho_data_products[0]\n",
    "ortho_url_202212 = ortho_data.url\n",
    "ortho_url_202212 = leafmap.d2s_tile(ortho_url_202212)"
   ]
  },
  {
   "cell_type": "markdown",
   "id": "58",
   "metadata": {},
   "source": [
    "### Compare two ortho images\n",
    "\n",
    "Create a split map for comparing the 2022 and 2024 ortho images."
   ]
  },
  {
   "cell_type": "code",
   "execution_count": null,
   "id": "59",
   "metadata": {},
   "outputs": [],
   "source": [
    "from ipyleaflet import TileLayer\n",
    "\n",
    "m = leafmap.Map()\n",
    "left_layer = TileLayer(\n",
    "    url=leafmap.cog_tile(ortho_url_202206), max_zoom=30, name=\"2022-06 Ortho\"\n",
    ")\n",
    "right_layer = TileLayer(\n",
    "    url=leafmap.cog_tile(ortho_url_202212), max_zoom=30, name=\"2022-12 Ortho\"\n",
    ")\n",
    "m.split_map(left_layer, right_layer, left_label=\"2022-06\", right_label=\"2022-12\")\n",
    "m.set_center(-97.955281, 26.165595, 18)\n",
    "m"
   ]
  },
  {
   "cell_type": "markdown",
   "id": "60",
   "metadata": {},
   "source": [
    "## Download data from D2S\n",
    "\n",
    "Read the ortho image from D2S as a DataArray."
   ]
  },
  {
   "cell_type": "code",
   "execution_count": null,
   "id": "61",
   "metadata": {},
   "outputs": [],
   "source": [
    "import rioxarray as rxr"
   ]
  },
  {
   "cell_type": "code",
   "execution_count": null,
   "id": "62",
   "metadata": {},
   "outputs": [],
   "source": [
    "data = rxr.open_rasterio(ortho_url_202206)\n",
    "data"
   ]
  },
  {
   "cell_type": "code",
   "execution_count": null,
   "id": "63",
   "metadata": {},
   "outputs": [],
   "source": [
    "m = leafmap.Map()\n",
    "m.add_cog_layer(ortho_url_202206, name=\"Ortho Imagery 202206\")\n",
    "m"
   ]
  },
  {
   "cell_type": "markdown",
   "id": "64",
   "metadata": {},
   "source": [
    "Draw an area of interest (AOI) on the map. If an AOI is not provided, a default AOI will be used."
   ]
  },
  {
   "cell_type": "code",
   "execution_count": null,
   "id": "65",
   "metadata": {},
   "outputs": [],
   "source": [
    "if m.user_roi is not None:\n",
    "    bbox = m.user_roi_bounds()\n",
    "else:\n",
    "    bbox = [-97.956252, 26.165315, -97.954992, 26.165883]"
   ]
  },
  {
   "cell_type": "code",
   "execution_count": null,
   "id": "66",
   "metadata": {},
   "outputs": [],
   "source": [
    "geojson = leafmap.bbox_to_geojson(bbox)\n",
    "gdf = leafmap.geojson_to_gdf(geojson)\n",
    "m.add_gdf(gdf, layer_name=\"AOI\", info_mode=None)"
   ]
  },
  {
   "cell_type": "code",
   "execution_count": null,
   "id": "67",
   "metadata": {},
   "outputs": [],
   "source": [
    "crs = data.rio.crs.to_string()\n",
    "print(crs)"
   ]
  },
  {
   "cell_type": "code",
   "execution_count": null,
   "id": "68",
   "metadata": {},
   "outputs": [],
   "source": [
    "gdf = gdf.to_crs(crs)\n",
    "print(gdf.crs)"
   ]
  },
  {
   "cell_type": "markdown",
   "id": "69",
   "metadata": {},
   "source": [
    "Resample the ortho imagery from 1 cm to 10 cm resolution."
   ]
  },
  {
   "cell_type": "code",
   "execution_count": null,
   "id": "70",
   "metadata": {},
   "outputs": [],
   "source": [
    "resampled_data = data.rio.reproject(crs, resolution=(0.1, 0.1))\n",
    "resampled_data.shape"
   ]
  },
  {
   "cell_type": "markdown",
   "id": "71",
   "metadata": {},
   "source": [
    "Clip the ortho image to the AOI."
   ]
  },
  {
   "cell_type": "code",
   "execution_count": null,
   "id": "72",
   "metadata": {},
   "outputs": [],
   "source": [
    "clipped_data = resampled_data.rio.clip(gdf.geometry, gdf.crs)\n",
    "clipped_data.shape"
   ]
  },
  {
   "cell_type": "markdown",
   "id": "73",
   "metadata": {},
   "source": [
    "Save the clipped ortho image to a GeoTIFF file."
   ]
  },
  {
   "cell_type": "code",
   "execution_count": null,
   "id": "74",
   "metadata": {},
   "outputs": [],
   "source": [
    "image = \"ortho_image_202206.tif\"\n",
    "clipped_data.sel(band=[1, 2, 3]).rio.to_raster(image)"
   ]
  },
  {
   "cell_type": "markdown",
   "id": "75",
   "metadata": {},
   "source": [
    "Visualize the clipped ortho image."
   ]
  },
  {
   "cell_type": "code",
   "execution_count": null,
   "id": "76",
   "metadata": {},
   "outputs": [],
   "source": [
    "m = leafmap.Map()\n",
    "m.add_raster(image, layer_name=\"Ortho Image 202206\")\n",
    "m.add_geojson(tree_boundaries, layer_name=\"Tree Boundaries\")\n",
    "m"
   ]
  },
  {
   "cell_type": "markdown",
   "id": "77",
   "metadata": {},
   "source": [
    "## Segmenting Drone Imagery using Samgeo\n",
    "\n",
    "### Initialize SAM class"
   ]
  },
  {
   "cell_type": "code",
   "execution_count": null,
   "id": "78",
   "metadata": {},
   "outputs": [],
   "source": [
    "from samgeo import SamGeo2"
   ]
  },
  {
   "cell_type": "code",
   "execution_count": null,
   "id": "79",
   "metadata": {},
   "outputs": [],
   "source": [
    "sam2 = SamGeo2(model_id=\"sam2-hiera-large\", automatic=True)"
   ]
  },
  {
   "cell_type": "markdown",
   "id": "80",
   "metadata": {},
   "source": [
    "### Automatic mask generation"
   ]
  },
  {
   "cell_type": "code",
   "execution_count": null,
   "id": "81",
   "metadata": {},
   "outputs": [],
   "source": [
    "sam2.generate(image)"
   ]
  },
  {
   "cell_type": "code",
   "execution_count": null,
   "id": "82",
   "metadata": {},
   "outputs": [],
   "source": [
    "sam2.save_masks(output=\"masks.tif\")"
   ]
  },
  {
   "cell_type": "code",
   "execution_count": null,
   "id": "83",
   "metadata": {},
   "outputs": [],
   "source": [
    "sam2.show_masks(cmap=\"binary_r\")"
   ]
  },
  {
   "cell_type": "markdown",
   "id": "84",
   "metadata": {},
   "source": [
    "![image](https://github.com/user-attachments/assets/fec9ad33-338e-4d1f-95e5-5f7b58e15edb)"
   ]
  },
  {
   "cell_type": "code",
   "execution_count": null,
   "id": "85",
   "metadata": {},
   "outputs": [],
   "source": [
    "sam2.show_masks(cmap=\"jet\")"
   ]
  },
  {
   "cell_type": "markdown",
   "id": "86",
   "metadata": {},
   "source": [
    "![image](https://github.com/user-attachments/assets/32036cec-96a2-46c7-b948-a859925d8600)"
   ]
  },
  {
   "cell_type": "markdown",
   "id": "87",
   "metadata": {},
   "source": [
    "Show the object annotations (objects with random color) on the map."
   ]
  },
  {
   "cell_type": "code",
   "execution_count": null,
   "id": "88",
   "metadata": {},
   "outputs": [],
   "source": [
    "sam2.show_anns(axis=\"off\", alpha=0.7, output=\"annotations.tif\")"
   ]
  },
  {
   "cell_type": "markdown",
   "id": "89",
   "metadata": {},
   "source": [
    "![image](https://github.com/user-attachments/assets/8a05f797-5a08-4bb2-b6b3-ee8f82d8bd32)"
   ]
  },
  {
   "cell_type": "markdown",
   "id": "90",
   "metadata": {},
   "source": [
    "Compare images with a slider."
   ]
  },
  {
   "cell_type": "code",
   "execution_count": null,
   "id": "91",
   "metadata": {},
   "outputs": [],
   "source": [
    "leafmap.image_comparison(\n",
    "    image,\n",
    "    \"annotations.tif\",\n",
    "    label1=\"Drone Imagery\",\n",
    "    label2=\"Image Segmentation\",\n",
    ")"
   ]
  },
  {
   "cell_type": "markdown",
   "id": "92",
   "metadata": {},
   "source": [
    "Add segmentation result to the map."
   ]
  },
  {
   "cell_type": "code",
   "execution_count": null,
   "id": "93",
   "metadata": {},
   "outputs": [],
   "source": [
    "m.add_raster(\"masks.tif\", colormap=\"jet\", layer_name=\"Masks\", nodata=0, opacity=0.7)\n",
    "m"
   ]
  },
  {
   "cell_type": "markdown",
   "id": "94",
   "metadata": {},
   "source": [
    "Convert the object masks to vector format, such as GeoPackage, Shapefile, or GeoJSON."
   ]
  },
  {
   "cell_type": "code",
   "execution_count": null,
   "id": "95",
   "metadata": {},
   "outputs": [],
   "source": [
    "sam2.raster_to_vector(\"masks.tif\", \"masks.gpkg\")"
   ]
  },
  {
   "cell_type": "code",
   "execution_count": null,
   "id": "96",
   "metadata": {},
   "outputs": [],
   "source": [
    "m.add_vector(\"masks.gpkg\", layer_name=\"Objects\")"
   ]
  },
  {
   "cell_type": "markdown",
   "id": "97",
   "metadata": {},
   "source": [
    "### Automatic mask generation options\n",
    "\n",
    "There are several tunable parameters in automatic mask generation that control how densely points are sampled and what the thresholds are for removing low quality or duplicate masks. Additionally, generation can be automatically run on crops of the image to get improved performance on smaller objects, and post-processing can remove stray pixels and holes. Here is an example configuration that samples more masks:"
   ]
  },
  {
   "cell_type": "code",
   "execution_count": null,
   "id": "98",
   "metadata": {},
   "outputs": [],
   "source": [
    "sam2 = SamGeo2(\n",
    "    model_id=\"sam2-hiera-large\",\n",
    "    apply_postprocessing=False,\n",
    "    points_per_side=64,\n",
    "    points_per_batch=128,\n",
    "    pred_iou_thresh=0.7,\n",
    "    stability_score_thresh=0.92,\n",
    "    stability_score_offset=0.7,\n",
    "    crop_n_layers=1,\n",
    "    box_nms_thresh=0.7,\n",
    "    crop_n_points_downscale_factor=2,\n",
    "    min_mask_region_area=25,\n",
    "    use_m2m=True,\n",
    ")"
   ]
  },
  {
   "cell_type": "code",
   "execution_count": null,
   "id": "99",
   "metadata": {},
   "outputs": [],
   "source": [
    "sam2.generate(image, output=\"masks2.tif\")"
   ]
  },
  {
   "cell_type": "code",
   "execution_count": null,
   "id": "100",
   "metadata": {},
   "outputs": [],
   "source": [
    "sam2.show_masks(cmap=\"jet\")"
   ]
  },
  {
   "cell_type": "markdown",
   "id": "101",
   "metadata": {},
   "source": [
    "![image](https://github.com/user-attachments/assets/ff07bff9-f0d1-41c6-a641-ce9f4734fd61)"
   ]
  },
  {
   "cell_type": "code",
   "execution_count": null,
   "id": "102",
   "metadata": {},
   "outputs": [],
   "source": [
    "sam2.show_anns(axis=\"off\", alpha=0.7, output=\"annotations2.tif\")"
   ]
  },
  {
   "cell_type": "markdown",
   "id": "103",
   "metadata": {},
   "source": [
    "![image](https://github.com/user-attachments/assets/1e1df62c-ec44-4c5e-aa5a-4025d078ff6b)"
   ]
  },
  {
   "cell_type": "code",
   "execution_count": null,
   "id": "104",
   "metadata": {},
   "outputs": [],
   "source": [
    "leafmap.image_comparison(\n",
    "    image,\n",
    "    \"annotations2.tif\",\n",
    "    label1=\"Image\",\n",
    "    label2=\"Image Segmentation\",\n",
    ")"
   ]
  }
 ],
 "metadata": {
  "colab": {
   "provenance": []
  },
  "kernelspec": {
   "display_name": "Python 3 (ipykernel)",
   "language": "python",
   "name": "python3"
  },
  "language_info": {
   "codemirror_mode": {
    "name": "ipython",
    "version": 3
   },
   "file_extension": ".py",
   "mimetype": "text/x-python",
   "name": "python",
   "nbconvert_exporter": "python",
   "pygments_lexer": "ipython3",
   "version": "3.11.8"
  }
 },
 "nbformat": 4,
 "nbformat_minor": 5
}
